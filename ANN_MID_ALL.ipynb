{
  "nbformat": 4,
  "nbformat_minor": 0,
  "metadata": {
    "colab": {
      "provenance": [],
      "include_colab_link": true
    },
    "kernelspec": {
      "name": "python3",
      "display_name": "Python 3"
    },
    "language_info": {
      "name": "python"
    }
  },
  "cells": [
    {
      "cell_type": "markdown",
      "metadata": {
        "id": "view-in-github",
        "colab_type": "text"
      },
      "source": [
        "<a href=\"https://colab.research.google.com/github/anishks07/annmid/blob/master/ANN_MID_ALL.ipynb\" target=\"_parent\"><img src=\"https://colab.research.google.com/assets/colab-badge.svg\" alt=\"Open In Colab\"/></a>"
      ]
    },
    {
      "cell_type": "markdown",
      "source": [
        "# 1.Implement a Single Layer Neural Network for OR gate, also verify with three inputs"
      ],
      "metadata": {
        "id": "uVN5ItIbWKHr"
      }
    },
    {
      "cell_type": "code",
      "execution_count": null,
      "metadata": {
        "colab": {
          "base_uri": "https://localhost:8080/"
        },
        "id": "cpJUsReUTrl4",
        "outputId": "29513881-11f6-4f3e-b372-67ca1414dfdc",
        "collapsed": true
      },
      "outputs": [
        {
          "output_type": "stream",
          "name": "stdout",
          "text": [
            "Final weights:\n",
            "[[3.1117588]\n",
            " [3.1173176]\n",
            " [3.1148938]]\n",
            "\n",
            "Final bias:\n",
            "[-1.12288196]\n",
            "\n",
            "Testing OR Gate (3 inputs):\n",
            "Input: [0 0 0], Output: 0\n",
            "Input: [0 0 1], Output: 1\n",
            "Input: [0 1 0], Output: 1\n",
            "Input: [0 1 1], Output: 1\n",
            "Input: [1 0 0], Output: 1\n",
            "Input: [1 0 1], Output: 1\n",
            "Input: [1 1 0], Output: 1\n",
            "Input: [1 1 1], Output: 1\n"
          ]
        }
      ],
      "source": [
        "import numpy as np\n",
        "# Sigmoid activation function\n",
        "def sigmoid(x):\n",
        "    return 1 / (1 + np.exp(-x))\n",
        "# Derivative of the sigmoid function\n",
        "def sigmoid_derivative(x):\n",
        "    return x * (1 - x)\n",
        "# Hyperparameters\n",
        "learning_rate = 0.1\n",
        "epochs = 1000\n",
        "# OR Gate - Training Data (Three Inputs)\n",
        "inputs= np.array([[0, 0, 0],\n",
        "                     [0, 0, 1],\n",
        "                     [0, 1, 0],\n",
        "                     [0, 1, 1],\n",
        "                     [1, 0, 0],\n",
        "                     [1, 0, 1],\n",
        "                     [1, 1, 0],\n",
        "                     [1, 1, 1]])\n",
        "\n",
        "outputs = np.array([[0], [1], [1], [1], [1], [1], [1], [1]])  # Expected OR gate output\n",
        "# Initialize weights and bias for 3 inputs\n",
        "weights = np.random.rand(3, 1)  # 3 inputs to 1 output\n",
        "bias = np.random.rand(1)\n",
        "# Training the network for 3-input OR gate\n",
        "for epoch in range(epochs):\n",
        "    # Forward pass\n",
        "    weighted_sum = np.dot(inputs, weights) + bias\n",
        "    predictions = sigmoid(weighted_sum)\n",
        "    # Compute error\n",
        "    error = outputs - predictions\n",
        "    # Backpropagation\n",
        "    adjustments = error * sigmoid_derivative(predictions)\n",
        "    weights += np.dot(inputs.T, adjustments) * learning_rate\n",
        "    bias += np.sum(adjustments) * learning_rate\n",
        "# Print final weights and bias after training\n",
        "print(\"Final weights:\")\n",
        "print(weights)\n",
        "print(\"\\nFinal bias:\")\n",
        "print(bias)\n",
        "# Testing the trained model on OR gate with 3 inputs\n",
        "print(\"\\nTesting OR Gate (3 inputs):\")\n",
        "for input_data in inputs:\n",
        "    result = sigmoid(np.dot(input_data, weights) + bias)\n",
        "    print(f\"Input: {input_data}, Output: {round(result[0])}\")"
      ]
    },
    {
      "cell_type": "markdown",
      "source": [
        "# 2.Implement a Single Layer Neural Network for AND gate, also verify with three inputs just give me the code that is enough"
      ],
      "metadata": {
        "id": "RvAiIrZUWQi9"
      }
    },
    {
      "cell_type": "code",
      "source": [
        "import numpy as np\n",
        "# Sigmoid activation function\n",
        "def sigmoid(x):\n",
        "    return 1 / (1 + np.exp(-x))\n",
        "# Derivative of the sigmoid function\n",
        "def sigmoid_derivative(x):\n",
        "    return x * (1 - x)\n",
        "# Initialize weights and bias\n",
        "np.random.seed(42)\n",
        "learning_rate = 0.1\n",
        "# Training the network\n",
        "epochs = 10000\n",
        "# AND Gate - Training Data (Three Inputs)\n",
        "inputs = np.array([[0, 0, 0],\n",
        "                     [0, 0, 1],\n",
        "                     [0, 1, 0],\n",
        "                     [0, 1, 1],\n",
        "                     [1, 0, 0],\n",
        "                     [1, 0, 1],\n",
        "                     [1, 1, 0],\n",
        "                     [1, 1, 1]])\n",
        "outputs = np.array([[0], [0], [0], [0], [0], [0], [0], [1]])  # Expected AND gate output\n",
        "# Initialize weights and bias for 3 inputs\n",
        "weights = np.random.rand(3, 1)\n",
        "bias = np.random.rand(1)\n",
        "# Training the network for 3-input OR gate\n",
        "for epoch in range(epochs):\n",
        "    # Forward pass\n",
        "    weighted_sum = np.dot(inputs, weights) + bias\n",
        "    predictions = sigmoid(weighted_sum)\n",
        "    # Compute error\n",
        "    error = outputs - predictions\n",
        "    # Backpropagation\n",
        "    adjustments = error * sigmoid_derivative(predictions)\n",
        "    weights += np.dot(inputs.T, adjustments) * learning_rate\n",
        "    bias += np.sum(adjustments) * learning_rate\n",
        "# Print final weights and bias after training\n",
        "print(\"Final weights:\")\n",
        "print(weights)\n",
        "print(\"\\nFinal bias:\")\n",
        "print(bias)\n",
        "# Testing the trained model on AND gate with 3 inputs\n",
        "print(\"\\nTesting AND Gate (3 inputs):\")\n",
        "for input_data in inputs:\n",
        "    result = sigmoid(np.dot(input_data, weights) + bias)\n",
        "    print(f\"Input: {input_data}, Output: {round(result[0])}\")"
      ],
      "metadata": {
        "colab": {
          "base_uri": "https://localhost:8080/"
        },
        "id": "jyQ0AvPTTz_c",
        "outputId": "e3ff6b6b-71b2-4fd5-8280-9dba38708655",
        "collapsed": true
      },
      "execution_count": null,
      "outputs": [
        {
          "output_type": "stream",
          "name": "stdout",
          "text": [
            "Final weights:\n",
            "[[4.78314764]\n",
            " [4.78314764]\n",
            " [4.78314764]]\n",
            "\n",
            "Final bias:\n",
            "[-12.19468151]\n",
            "\n",
            "Testing AND Gate (3 inputs):\n",
            "Input: [0 0 0], Output: 0\n",
            "Input: [0 0 1], Output: 0\n",
            "Input: [0 1 0], Output: 0\n",
            "Input: [0 1 1], Output: 0\n",
            "Input: [1 0 0], Output: 0\n",
            "Input: [1 0 1], Output: 0\n",
            "Input: [1 1 0], Output: 0\n",
            "Input: [1 1 1], Output: 1\n"
          ]
        }
      ]
    },
    {
      "cell_type": "markdown",
      "source": [
        "#3.Implement a Neural Network with Hidden Layer for XOR gate, also verify with three inputs"
      ],
      "metadata": {
        "id": "nrNZyTbwWVEe"
      }
    },
    {
      "cell_type": "code",
      "source": [
        "import numpy as np\n",
        "def sigmoid(x):\n",
        "    return 1 / (1 + np.exp(-x))\n",
        "def sigmoid_derivative(x):\n",
        "    return x * (1 - x)\n",
        "np.random.seed(42)\n",
        "learning_rate = 0.1\n",
        "epochs = 1000\n",
        "inputs_3 = np.array([[0, 0, 0],\n",
        "                     [0, 0, 1],\n",
        "                     [0, 1, 0],\n",
        "                     [0, 1, 1],\n",
        "                     [1, 0, 0],\n",
        "                     [1, 0, 1],\n",
        "                     [1, 1, 0],\n",
        "                     [1, 1, 1]])\n",
        "outputs_3 = np.array([[0], [1], [1], [0], [1], [0], [0], [1]])  # Expected XOR gate output\n",
        "weights_input_hidden = np.random.rand(3, 3)\n",
        "weights_hidden_output = np.random.rand(3, 1)\n",
        "bias_hidden = np.random.rand(3)\n",
        "bias_output = np.random.rand(1)\n",
        "# Training the network for 3-input XOR gate\n",
        "for epoch in range(epochs):\n",
        "    # Forward pass\n",
        "    hidden_layer_input = np.dot(inputs_3, weights_input_hidden) + bias_hidden\n",
        "    hidden_layer_output = sigmoid(hidden_layer_input)\n",
        "    final_input = np.dot(hidden_layer_output, weights_hidden_output) + bias_output\n",
        "    final_output = sigmoid(final_input)\n",
        "    # Compute error\n",
        "    error = outputs_3 - final_output\n",
        "    # Backpropagation\n",
        "    output_adjustments = error * sigmoid_derivative(final_output)\n",
        "    hidden_error = np.dot(output_adjustments, weights_hidden_output.T)\n",
        "    hidden_adjustments = hidden_error * sigmoid_derivative(hidden_layer_output)\n",
        "    # Update weights and biases\n",
        "    weights_hidden_output += np.dot(hidden_layer_output.T, output_adjustments) * learning_rate\n",
        "    bias_output += np.sum(output_adjustments, axis=0) * learning_rate\n",
        "    weights_input_hidden += np.dot(inputs_3.T, hidden_adjustments) * learning_rate\n",
        "    bias_hidden += np.sum(hidden_adjustments, axis=0) * learning_rate\n",
        "# Print final weights and bias after training\n",
        "print(\"Final weights (Input to Hidden):\")\n",
        "print(weights_input_hidden)\n",
        "print(\"\\nFinal weights (Hidden to Output):\")\n",
        "print(weights_hidden_output)\n",
        "print(\"\\nFinal bias (Hidden Layer):\")\n",
        "print(bias_hidden)\n",
        "print(\"\\nFinal bias (Output Layer):\")\n",
        "print(bias_output)\n",
        "# Testing the trained model on XOR gate with 3 inputs\n",
        "print(\"\\nTesting XOR Gate (3 inputs):\")\n",
        "for input_data in inputs_3:\n",
        "    hidden_layer_input = np.dot(input_data, weights_input_hidden) + bias_hidden\n",
        "    hidden_layer_output = sigmoid(hidden_layer_input)\n",
        "    final_input = np.dot(hidden_layer_output, weights_hidden_output) + bias_output\n",
        "    result = sigmoid(final_input)\n",
        "    print(f\"Input: {input_data}, Output: {round(result[0])}\")\n"
      ],
      "metadata": {
        "colab": {
          "base_uri": "https://localhost:8080/",
          "height": 0
        },
        "id": "vUKlpMsnTz8k",
        "outputId": "122f135b-18cd-443b-fe6c-cb76b026a4e2",
        "collapsed": true
      },
      "execution_count": 7,
      "outputs": [
        {
          "output_type": "stream",
          "name": "stdout",
          "text": [
            "Final weights (Input to Hidden):\n",
            "[[ 0.34052107  0.95426391  0.65806289]\n",
            " [ 0.57463609  0.21218965 -0.07886976]\n",
            " [ 0.0334333   0.84991206  0.56150596]]\n",
            "\n",
            "Final weights (Hidden to Output):\n",
            "[[ 0.29980465]\n",
            " [-0.44969261]\n",
            " [ 0.57322824]]\n",
            "\n",
            "Final bias (Hidden Layer):\n",
            "[0.80053192 0.12888438 0.12564658]\n",
            "\n",
            "Final bias (Output Layer):\n",
            "[-0.27999274]\n",
            "\n",
            "Testing XOR Gate (3 inputs):\n",
            "Input: [0 0 0], Output: 0\n",
            "Input: [0 0 1], Output: 0\n",
            "Input: [0 1 0], Output: 0\n",
            "Input: [0 1 1], Output: 0\n",
            "Input: [1 0 0], Output: 1\n",
            "Input: [1 0 1], Output: 1\n",
            "Input: [1 1 0], Output: 1\n",
            "Input: [1 1 1], Output: 1\n"
          ]
        }
      ]
    },
    {
      "cell_type": "markdown",
      "source": [
        "# 4.Implement a Neural Network with Hidden Layer for NAND gate, with three inputs"
      ],
      "metadata": {
        "id": "XUD7WZIKWYob"
      }
    },
    {
      "cell_type": "code",
      "source": [
        "import numpy as np\n",
        "# Sigmoid activation function\n",
        "def sigmoid(x):\n",
        "    return 1 / (1 + np.exp(-x))\n",
        "# Derivative of the sigmoid function\n",
        "def sigmoid_derivative(x):\n",
        "    return x * (1 - x)\n",
        "# Initialize weights and bias\n",
        "np.random.seed(42)\n",
        "learning_rate = 0.1\n",
        "# Training the network\n",
        "epochs = 1000\n",
        "# NAND Gate - Training Data (Three Inputs)\n",
        "inputs = np.array([[0, 0, 0],\n",
        "                   [0, 0, 1],\n",
        "                   [0, 1, 0],\n",
        "                   [0, 1, 1],\n",
        "                   [1, 0, 0],\n",
        "                   [1, 0, 1],\n",
        "                   [1, 1, 0],\n",
        "                   [1, 1, 1]])\n",
        "outputs = np.array([[1], [1], [1], [1], [1], [1], [1], [0]])  # Expected NAND gate output\n",
        "# Initialize weights and bias for 3-input NAND gate\n",
        "input_size = 3\n",
        "hidden_size = 3\n",
        "output_size = 1\n",
        "weights_input_hidden = np.random.rand(input_size, hidden_size)\n",
        "weights_hidden_output = np.random.rand(hidden_size, output_size)\n",
        "bias_hidden = np.random.rand(hidden_size)\n",
        "bias_output = np.random.rand(output_size)\n",
        "# Training the network for 3-input NAND gate\n",
        "for epoch in range(epochs):\n",
        "    # Forward pass\n",
        "    hidden_layer_input = np.dot(inputs, weights_input_hidden) + bias_hidden\n",
        "    hidden_layer_output = sigmoid(hidden_layer_input)\n",
        "    final_input = np.dot(hidden_layer_output, weights_hidden_output) + bias_output\n",
        "    final_output = sigmoid(final_input)\n",
        "    # Compute error\n",
        "    error = outputs - final_output\n",
        "    # Backpropagation\n",
        "    output_adjustments = error * sigmoid_derivative(final_output)\n",
        "    hidden_error = np.dot(output_adjustments, weights_hidden_output.T)\n",
        "    hidden_adjustments = hidden_error * sigmoid_derivative(hidden_layer_output)\n",
        "    # Update weights and biases\n",
        "    weights_hidden_output += np.dot(hidden_layer_output.T, output_adjustments) * learning_rate\n",
        "    bias_output += np.sum(output_adjustments, axis=0) * learning_rate\n",
        "    weights_input_hidden += np.dot(inputs.T, hidden_adjustments) * learning_rate\n",
        "    bias_hidden += np.sum(hidden_adjustments, axis=0) * learning_rate\n",
        "# Print final weights and bias after training\n",
        "print(\"Final weights (Input to Hidden):\")\n",
        "print(weights_input_hidden)\n",
        "print(\"\\nFinal weights (Hidden to Output):\")\n",
        "print(weights_hidden_output)\n",
        "print(\"\\nFinal bias (Hidden Layer):\")\n",
        "print(bias_hidden)\n",
        "print(\"\\nFinal bias (Output Layer):\")\n",
        "print(bias_output)\n",
        "# Testing the trained model on NAND gate with 3 inputs\n",
        "print(\"\\nTesting NAND Gate (3 inputs):\")\n",
        "for input_data in inputs:\n",
        "    hidden_layer_input = np.dot(input_data, weights_input_hidden) + bias_hidden\n",
        "    hidden_layer_output = sigmoid(hidden_layer_input)\n",
        "    final_input = np.dot(hidden_layer_output, weights_hidden_output) + bias_output\n",
        "    result = sigmoid(final_input)\n",
        "    print(f\"Input: {input_data}, Output: {round(result[0])}\")"
      ],
      "metadata": {
        "colab": {
          "base_uri": "https://localhost:8080/"
        },
        "id": "tdy38g-xTz5j",
        "outputId": "a21dbbbc-8f0a-4dc7-cae7-588cf1cab4a8",
        "collapsed": true
      },
      "execution_count": null,
      "outputs": [
        {
          "output_type": "stream",
          "name": "stdout",
          "text": [
            "Final weights (Input to Hidden):\n",
            "[[-0.48593567  1.04144729  0.02925967]\n",
            " [-0.33593348  0.18964413 -0.43981792]\n",
            " [-0.68926332  0.92654738 -0.03170345]]\n",
            "\n",
            "Final weights (Hidden to Output):\n",
            "[[ 1.34812829]\n",
            " [-1.08514491]\n",
            " [ 0.87450428]]\n",
            "\n",
            "Final bias (Hidden Layer):\n",
            "[ 1.09593731 -0.19583573  0.70020777]\n",
            "\n",
            "Final bias (Output Layer):\n",
            "[1.10333999]\n",
            "\n",
            "Testing NAND Gate (3 inputs):\n",
            "Input: [0 0 0], Output: 1\n",
            "Input: [0 0 1], Output: 1\n",
            "Input: [0 1 0], Output: 1\n",
            "Input: [0 1 1], Output: 1\n",
            "Input: [1 0 0], Output: 1\n",
            "Input: [1 0 1], Output: 1\n",
            "Input: [1 1 0], Output: 1\n",
            "Input: [1 1 1], Output: 1\n"
          ]
        }
      ]
    },
    {
      "cell_type": "markdown",
      "source": [
        "#5. Implement Train a Neural Network for Multiclass Models for the data set available at MNIST data (available at https://keras.io/2.17/api/datasets/mnist/)  "
      ],
      "metadata": {
        "id": "XESk2aPkWcXj"
      }
    },
    {
      "cell_type": "code",
      "source": [
        "import tensorflow as tf\n",
        "from tensorflow import keras\n",
        "import numpy as np\n",
        "import matplotlib.pyplot as plt\n",
        "\n",
        "# Load the MNIST dataset\n",
        "(x_train, y_train), (x_test, y_test) = keras.datasets.mnist.load_data()\n",
        "\n",
        "# Normalize pixel values to the range [0, 1]\n",
        "x_train, x_test = x_train / 255.0, x_test / 255.0\n",
        "\n",
        "# Flatten the 28x28 images into 1D vectors of size 784\n",
        "x_train = x_train.reshape(-1, 784)\n",
        "x_test = x_test.reshape(-1, 784)\n",
        "\n",
        "# Convert labels to one-hot encoding\n",
        "y_train = keras.utils.to_categorical(y_train, 10)\n",
        "y_test = keras.utils.to_categorical(y_test, 10)\n",
        "\n",
        "# Define the neural network model\n",
        "model = keras.Sequential([\n",
        "    keras.layers.Dense(128, activation='relu', input_shape=(784,)),  # Hidden layer 1\n",
        "    keras.layers.Dense(64, activation='relu'),  # Hidden layer 2\n",
        "    keras.layers.Dense(10, activation='softmax')  # Output layer (10 classes)\n",
        "])\n",
        "\n",
        "# Compile the model\n",
        "model.compile(optimizer='adam', loss='categorical_crossentropy', metrics=['accuracy'])\n",
        "\n",
        "# Train the model\n",
        "history = model.fit(x_train, y_train, epochs=10, batch_size=32, validation_data=(x_test, y_test))\n",
        "\n",
        "# Evaluate the model on the test set\n",
        "test_loss, test_accuracy = model.evaluate(x_test, y_test, verbose=0)\n",
        "print(f\"\\nTest Accuracy: {test_accuracy:.4f}\")\n",
        "\n",
        "# Predict a few test images\n",
        "predictions = model.predict(x_test[:5])\n",
        "\n",
        "# Display results\n",
        "plt.figure(figsize=(10, 5))\n",
        "for i in range(5):\n",
        "    plt.subplot(1, 5, i + 1)\n",
        "    plt.imshow(x_test[i].reshape(28, 28), cmap='gray')\n",
        "    plt.title(f\"Pred: {np.argmax(predictions[i])}\\nTrue: {np.argmax(y_test[i])}\")\n",
        "    plt.axis('off')\n",
        "plt.tight_layout()\n",
        "plt.show()"
      ],
      "metadata": {
        "colab": {
          "base_uri": "https://localhost:8080/",
          "height": 599
        },
        "id": "JurIkpqtTz2v",
        "outputId": "3e294766-1629-431e-c015-91e3feb91b3c",
        "collapsed": true
      },
      "execution_count": 1,
      "outputs": [
        {
          "output_type": "stream",
          "name": "stdout",
          "text": [
            "Downloading data from https://storage.googleapis.com/tensorflow/tf-keras-datasets/mnist.npz\n",
            "\u001b[1m11490434/11490434\u001b[0m \u001b[32m━━━━━━━━━━━━━━━━━━━━\u001b[0m\u001b[37m\u001b[0m \u001b[1m2s\u001b[0m 0us/step\n"
          ]
        },
        {
          "output_type": "stream",
          "name": "stderr",
          "text": [
            "/usr/local/lib/python3.11/dist-packages/keras/src/layers/core/dense.py:87: UserWarning: Do not pass an `input_shape`/`input_dim` argument to a layer. When using Sequential models, prefer using an `Input(shape)` object as the first layer in the model instead.\n",
            "  super().__init__(activity_regularizer=activity_regularizer, **kwargs)\n"
          ]
        },
        {
          "output_type": "stream",
          "name": "stdout",
          "text": [
            "Epoch 1/10\n",
            "\u001b[1m1875/1875\u001b[0m \u001b[32m━━━━━━━━━━━━━━━━━━━━\u001b[0m\u001b[37m\u001b[0m \u001b[1m18s\u001b[0m 8ms/step - accuracy: 0.8808 - loss: 0.4242 - val_accuracy: 0.9536 - val_loss: 0.1527\n",
            "Epoch 2/10\n",
            "\u001b[1m1875/1875\u001b[0m \u001b[32m━━━━━━━━━━━━━━━━━━━━\u001b[0m\u001b[37m\u001b[0m \u001b[1m14s\u001b[0m 7ms/step - accuracy: 0.9672 - loss: 0.1092 - val_accuracy: 0.9727 - val_loss: 0.0887\n",
            "Epoch 3/10\n",
            "\u001b[1m1875/1875\u001b[0m \u001b[32m━━━━━━━━━━━━━━━━━━━━\u001b[0m\u001b[37m\u001b[0m \u001b[1m12s\u001b[0m 7ms/step - accuracy: 0.9785 - loss: 0.0702 - val_accuracy: 0.9757 - val_loss: 0.0800\n",
            "Epoch 4/10\n",
            "\u001b[1m 311/1875\u001b[0m \u001b[32m━━━\u001b[0m\u001b[37m━━━━━━━━━━━━━━━━━\u001b[0m \u001b[1m6s\u001b[0m 4ms/step - accuracy: 0.9841 - loss: 0.0516"
          ]
        },
        {
          "output_type": "error",
          "ename": "KeyboardInterrupt",
          "evalue": "",
          "traceback": [
            "\u001b[0;31m---------------------------------------------------------------------------\u001b[0m",
            "\u001b[0;31mKeyboardInterrupt\u001b[0m                         Traceback (most recent call last)",
            "\u001b[0;32m<ipython-input-1-a38241bc2d66>\u001b[0m in \u001b[0;36m<cell line: 0>\u001b[0;34m()\u001b[0m\n\u001b[1;32m     29\u001b[0m \u001b[0;34m\u001b[0m\u001b[0m\n\u001b[1;32m     30\u001b[0m \u001b[0;31m# Train the model\u001b[0m\u001b[0;34m\u001b[0m\u001b[0;34m\u001b[0m\u001b[0m\n\u001b[0;32m---> 31\u001b[0;31m \u001b[0mhistory\u001b[0m \u001b[0;34m=\u001b[0m \u001b[0mmodel\u001b[0m\u001b[0;34m.\u001b[0m\u001b[0mfit\u001b[0m\u001b[0;34m(\u001b[0m\u001b[0mx_train\u001b[0m\u001b[0;34m,\u001b[0m \u001b[0my_train\u001b[0m\u001b[0;34m,\u001b[0m \u001b[0mepochs\u001b[0m\u001b[0;34m=\u001b[0m\u001b[0;36m10\u001b[0m\u001b[0;34m,\u001b[0m \u001b[0mbatch_size\u001b[0m\u001b[0;34m=\u001b[0m\u001b[0;36m32\u001b[0m\u001b[0;34m,\u001b[0m \u001b[0mvalidation_data\u001b[0m\u001b[0;34m=\u001b[0m\u001b[0;34m(\u001b[0m\u001b[0mx_test\u001b[0m\u001b[0;34m,\u001b[0m \u001b[0my_test\u001b[0m\u001b[0;34m)\u001b[0m\u001b[0;34m)\u001b[0m\u001b[0;34m\u001b[0m\u001b[0;34m\u001b[0m\u001b[0m\n\u001b[0m\u001b[1;32m     32\u001b[0m \u001b[0;34m\u001b[0m\u001b[0m\n\u001b[1;32m     33\u001b[0m \u001b[0;31m# Evaluate the model on the test set\u001b[0m\u001b[0;34m\u001b[0m\u001b[0;34m\u001b[0m\u001b[0m\n",
            "\u001b[0;32m/usr/local/lib/python3.11/dist-packages/keras/src/utils/traceback_utils.py\u001b[0m in \u001b[0;36merror_handler\u001b[0;34m(*args, **kwargs)\u001b[0m\n\u001b[1;32m    115\u001b[0m         \u001b[0mfiltered_tb\u001b[0m \u001b[0;34m=\u001b[0m \u001b[0;32mNone\u001b[0m\u001b[0;34m\u001b[0m\u001b[0;34m\u001b[0m\u001b[0m\n\u001b[1;32m    116\u001b[0m         \u001b[0;32mtry\u001b[0m\u001b[0;34m:\u001b[0m\u001b[0;34m\u001b[0m\u001b[0;34m\u001b[0m\u001b[0m\n\u001b[0;32m--> 117\u001b[0;31m             \u001b[0;32mreturn\u001b[0m \u001b[0mfn\u001b[0m\u001b[0;34m(\u001b[0m\u001b[0;34m*\u001b[0m\u001b[0margs\u001b[0m\u001b[0;34m,\u001b[0m \u001b[0;34m**\u001b[0m\u001b[0mkwargs\u001b[0m\u001b[0;34m)\u001b[0m\u001b[0;34m\u001b[0m\u001b[0;34m\u001b[0m\u001b[0m\n\u001b[0m\u001b[1;32m    118\u001b[0m         \u001b[0;32mexcept\u001b[0m \u001b[0mException\u001b[0m \u001b[0;32mas\u001b[0m \u001b[0me\u001b[0m\u001b[0;34m:\u001b[0m\u001b[0;34m\u001b[0m\u001b[0;34m\u001b[0m\u001b[0m\n\u001b[1;32m    119\u001b[0m             \u001b[0mfiltered_tb\u001b[0m \u001b[0;34m=\u001b[0m \u001b[0m_process_traceback_frames\u001b[0m\u001b[0;34m(\u001b[0m\u001b[0me\u001b[0m\u001b[0;34m.\u001b[0m\u001b[0m__traceback__\u001b[0m\u001b[0;34m)\u001b[0m\u001b[0;34m\u001b[0m\u001b[0;34m\u001b[0m\u001b[0m\n",
            "\u001b[0;32m/usr/local/lib/python3.11/dist-packages/keras/src/backend/tensorflow/trainer.py\u001b[0m in \u001b[0;36mfit\u001b[0;34m(self, x, y, batch_size, epochs, verbose, callbacks, validation_split, validation_data, shuffle, class_weight, sample_weight, initial_epoch, steps_per_epoch, validation_steps, validation_batch_size, validation_freq)\u001b[0m\n\u001b[1;32m    369\u001b[0m                 \u001b[0;32mfor\u001b[0m \u001b[0mstep\u001b[0m\u001b[0;34m,\u001b[0m \u001b[0miterator\u001b[0m \u001b[0;32min\u001b[0m \u001b[0mepoch_iterator\u001b[0m\u001b[0;34m:\u001b[0m\u001b[0;34m\u001b[0m\u001b[0;34m\u001b[0m\u001b[0m\n\u001b[1;32m    370\u001b[0m                     \u001b[0mcallbacks\u001b[0m\u001b[0;34m.\u001b[0m\u001b[0mon_train_batch_begin\u001b[0m\u001b[0;34m(\u001b[0m\u001b[0mstep\u001b[0m\u001b[0;34m)\u001b[0m\u001b[0;34m\u001b[0m\u001b[0;34m\u001b[0m\u001b[0m\n\u001b[0;32m--> 371\u001b[0;31m                     \u001b[0mlogs\u001b[0m \u001b[0;34m=\u001b[0m \u001b[0mself\u001b[0m\u001b[0;34m.\u001b[0m\u001b[0mtrain_function\u001b[0m\u001b[0;34m(\u001b[0m\u001b[0miterator\u001b[0m\u001b[0;34m)\u001b[0m\u001b[0;34m\u001b[0m\u001b[0;34m\u001b[0m\u001b[0m\n\u001b[0m\u001b[1;32m    372\u001b[0m                     \u001b[0mcallbacks\u001b[0m\u001b[0;34m.\u001b[0m\u001b[0mon_train_batch_end\u001b[0m\u001b[0;34m(\u001b[0m\u001b[0mstep\u001b[0m\u001b[0;34m,\u001b[0m \u001b[0mlogs\u001b[0m\u001b[0;34m)\u001b[0m\u001b[0;34m\u001b[0m\u001b[0;34m\u001b[0m\u001b[0m\n\u001b[1;32m    373\u001b[0m                     \u001b[0;32mif\u001b[0m \u001b[0mself\u001b[0m\u001b[0;34m.\u001b[0m\u001b[0mstop_training\u001b[0m\u001b[0;34m:\u001b[0m\u001b[0;34m\u001b[0m\u001b[0;34m\u001b[0m\u001b[0m\n",
            "\u001b[0;32m/usr/local/lib/python3.11/dist-packages/keras/src/backend/tensorflow/trainer.py\u001b[0m in \u001b[0;36mfunction\u001b[0;34m(iterator)\u001b[0m\n\u001b[1;32m    217\u001b[0m                 \u001b[0miterator\u001b[0m\u001b[0;34m,\u001b[0m \u001b[0;34m(\u001b[0m\u001b[0mtf\u001b[0m\u001b[0;34m.\u001b[0m\u001b[0mdata\u001b[0m\u001b[0;34m.\u001b[0m\u001b[0mIterator\u001b[0m\u001b[0;34m,\u001b[0m \u001b[0mtf\u001b[0m\u001b[0;34m.\u001b[0m\u001b[0mdistribute\u001b[0m\u001b[0;34m.\u001b[0m\u001b[0mDistributedIterator\u001b[0m\u001b[0;34m)\u001b[0m\u001b[0;34m\u001b[0m\u001b[0;34m\u001b[0m\u001b[0m\n\u001b[1;32m    218\u001b[0m             ):\n\u001b[0;32m--> 219\u001b[0;31m                 \u001b[0mopt_outputs\u001b[0m \u001b[0;34m=\u001b[0m \u001b[0mmulti_step_on_iterator\u001b[0m\u001b[0;34m(\u001b[0m\u001b[0miterator\u001b[0m\u001b[0;34m)\u001b[0m\u001b[0;34m\u001b[0m\u001b[0;34m\u001b[0m\u001b[0m\n\u001b[0m\u001b[1;32m    220\u001b[0m                 \u001b[0;32mif\u001b[0m \u001b[0;32mnot\u001b[0m \u001b[0mopt_outputs\u001b[0m\u001b[0;34m.\u001b[0m\u001b[0mhas_value\u001b[0m\u001b[0;34m(\u001b[0m\u001b[0;34m)\u001b[0m\u001b[0;34m:\u001b[0m\u001b[0;34m\u001b[0m\u001b[0;34m\u001b[0m\u001b[0m\n\u001b[1;32m    221\u001b[0m                     \u001b[0;32mraise\u001b[0m \u001b[0mStopIteration\u001b[0m\u001b[0;34m\u001b[0m\u001b[0;34m\u001b[0m\u001b[0m\n",
            "\u001b[0;32m/usr/local/lib/python3.11/dist-packages/tensorflow/python/util/traceback_utils.py\u001b[0m in \u001b[0;36merror_handler\u001b[0;34m(*args, **kwargs)\u001b[0m\n\u001b[1;32m    148\u001b[0m     \u001b[0mfiltered_tb\u001b[0m \u001b[0;34m=\u001b[0m \u001b[0;32mNone\u001b[0m\u001b[0;34m\u001b[0m\u001b[0;34m\u001b[0m\u001b[0m\n\u001b[1;32m    149\u001b[0m     \u001b[0;32mtry\u001b[0m\u001b[0;34m:\u001b[0m\u001b[0;34m\u001b[0m\u001b[0;34m\u001b[0m\u001b[0m\n\u001b[0;32m--> 150\u001b[0;31m       \u001b[0;32mreturn\u001b[0m \u001b[0mfn\u001b[0m\u001b[0;34m(\u001b[0m\u001b[0;34m*\u001b[0m\u001b[0margs\u001b[0m\u001b[0;34m,\u001b[0m \u001b[0;34m**\u001b[0m\u001b[0mkwargs\u001b[0m\u001b[0;34m)\u001b[0m\u001b[0;34m\u001b[0m\u001b[0;34m\u001b[0m\u001b[0m\n\u001b[0m\u001b[1;32m    151\u001b[0m     \u001b[0;32mexcept\u001b[0m \u001b[0mException\u001b[0m \u001b[0;32mas\u001b[0m \u001b[0me\u001b[0m\u001b[0;34m:\u001b[0m\u001b[0;34m\u001b[0m\u001b[0;34m\u001b[0m\u001b[0m\n\u001b[1;32m    152\u001b[0m       \u001b[0mfiltered_tb\u001b[0m \u001b[0;34m=\u001b[0m \u001b[0m_process_traceback_frames\u001b[0m\u001b[0;34m(\u001b[0m\u001b[0me\u001b[0m\u001b[0;34m.\u001b[0m\u001b[0m__traceback__\u001b[0m\u001b[0;34m)\u001b[0m\u001b[0;34m\u001b[0m\u001b[0;34m\u001b[0m\u001b[0m\n",
            "\u001b[0;32m/usr/local/lib/python3.11/dist-packages/tensorflow/python/eager/polymorphic_function/polymorphic_function.py\u001b[0m in \u001b[0;36m__call__\u001b[0;34m(self, *args, **kwds)\u001b[0m\n\u001b[1;32m    831\u001b[0m \u001b[0;34m\u001b[0m\u001b[0m\n\u001b[1;32m    832\u001b[0m       \u001b[0;32mwith\u001b[0m \u001b[0mOptionalXlaContext\u001b[0m\u001b[0;34m(\u001b[0m\u001b[0mself\u001b[0m\u001b[0;34m.\u001b[0m\u001b[0m_jit_compile\u001b[0m\u001b[0;34m)\u001b[0m\u001b[0;34m:\u001b[0m\u001b[0;34m\u001b[0m\u001b[0;34m\u001b[0m\u001b[0m\n\u001b[0;32m--> 833\u001b[0;31m         \u001b[0mresult\u001b[0m \u001b[0;34m=\u001b[0m \u001b[0mself\u001b[0m\u001b[0;34m.\u001b[0m\u001b[0m_call\u001b[0m\u001b[0;34m(\u001b[0m\u001b[0;34m*\u001b[0m\u001b[0margs\u001b[0m\u001b[0;34m,\u001b[0m \u001b[0;34m**\u001b[0m\u001b[0mkwds\u001b[0m\u001b[0;34m)\u001b[0m\u001b[0;34m\u001b[0m\u001b[0;34m\u001b[0m\u001b[0m\n\u001b[0m\u001b[1;32m    834\u001b[0m \u001b[0;34m\u001b[0m\u001b[0m\n\u001b[1;32m    835\u001b[0m       \u001b[0mnew_tracing_count\u001b[0m \u001b[0;34m=\u001b[0m \u001b[0mself\u001b[0m\u001b[0;34m.\u001b[0m\u001b[0mexperimental_get_tracing_count\u001b[0m\u001b[0;34m(\u001b[0m\u001b[0;34m)\u001b[0m\u001b[0;34m\u001b[0m\u001b[0;34m\u001b[0m\u001b[0m\n",
            "\u001b[0;32m/usr/local/lib/python3.11/dist-packages/tensorflow/python/eager/polymorphic_function/polymorphic_function.py\u001b[0m in \u001b[0;36m_call\u001b[0;34m(self, *args, **kwds)\u001b[0m\n\u001b[1;32m    876\u001b[0m       \u001b[0;31m# In this case we have not created variables on the first call. So we can\u001b[0m\u001b[0;34m\u001b[0m\u001b[0;34m\u001b[0m\u001b[0m\n\u001b[1;32m    877\u001b[0m       \u001b[0;31m# run the first trace but we should fail if variables are created.\u001b[0m\u001b[0;34m\u001b[0m\u001b[0;34m\u001b[0m\u001b[0m\n\u001b[0;32m--> 878\u001b[0;31m       results = tracing_compilation.call_function(\n\u001b[0m\u001b[1;32m    879\u001b[0m           \u001b[0margs\u001b[0m\u001b[0;34m,\u001b[0m \u001b[0mkwds\u001b[0m\u001b[0;34m,\u001b[0m \u001b[0mself\u001b[0m\u001b[0;34m.\u001b[0m\u001b[0m_variable_creation_config\u001b[0m\u001b[0;34m\u001b[0m\u001b[0;34m\u001b[0m\u001b[0m\n\u001b[1;32m    880\u001b[0m       )\n",
            "\u001b[0;32m/usr/local/lib/python3.11/dist-packages/tensorflow/python/eager/polymorphic_function/tracing_compilation.py\u001b[0m in \u001b[0;36mcall_function\u001b[0;34m(args, kwargs, tracing_options)\u001b[0m\n\u001b[1;32m    137\u001b[0m   \u001b[0mbound_args\u001b[0m \u001b[0;34m=\u001b[0m \u001b[0mfunction\u001b[0m\u001b[0;34m.\u001b[0m\u001b[0mfunction_type\u001b[0m\u001b[0;34m.\u001b[0m\u001b[0mbind\u001b[0m\u001b[0;34m(\u001b[0m\u001b[0;34m*\u001b[0m\u001b[0margs\u001b[0m\u001b[0;34m,\u001b[0m \u001b[0;34m**\u001b[0m\u001b[0mkwargs\u001b[0m\u001b[0;34m)\u001b[0m\u001b[0;34m\u001b[0m\u001b[0;34m\u001b[0m\u001b[0m\n\u001b[1;32m    138\u001b[0m   \u001b[0mflat_inputs\u001b[0m \u001b[0;34m=\u001b[0m \u001b[0mfunction\u001b[0m\u001b[0;34m.\u001b[0m\u001b[0mfunction_type\u001b[0m\u001b[0;34m.\u001b[0m\u001b[0munpack_inputs\u001b[0m\u001b[0;34m(\u001b[0m\u001b[0mbound_args\u001b[0m\u001b[0;34m)\u001b[0m\u001b[0;34m\u001b[0m\u001b[0;34m\u001b[0m\u001b[0m\n\u001b[0;32m--> 139\u001b[0;31m   return function._call_flat(  # pylint: disable=protected-access\n\u001b[0m\u001b[1;32m    140\u001b[0m       \u001b[0mflat_inputs\u001b[0m\u001b[0;34m,\u001b[0m \u001b[0mcaptured_inputs\u001b[0m\u001b[0;34m=\u001b[0m\u001b[0mfunction\u001b[0m\u001b[0;34m.\u001b[0m\u001b[0mcaptured_inputs\u001b[0m\u001b[0;34m\u001b[0m\u001b[0;34m\u001b[0m\u001b[0m\n\u001b[1;32m    141\u001b[0m   )\n",
            "\u001b[0;32m/usr/local/lib/python3.11/dist-packages/tensorflow/python/eager/polymorphic_function/concrete_function.py\u001b[0m in \u001b[0;36m_call_flat\u001b[0;34m(self, tensor_inputs, captured_inputs)\u001b[0m\n\u001b[1;32m   1320\u001b[0m         and executing_eagerly):\n\u001b[1;32m   1321\u001b[0m       \u001b[0;31m# No tape is watching; skip to running the function.\u001b[0m\u001b[0;34m\u001b[0m\u001b[0;34m\u001b[0m\u001b[0m\n\u001b[0;32m-> 1322\u001b[0;31m       \u001b[0;32mreturn\u001b[0m \u001b[0mself\u001b[0m\u001b[0;34m.\u001b[0m\u001b[0m_inference_function\u001b[0m\u001b[0;34m.\u001b[0m\u001b[0mcall_preflattened\u001b[0m\u001b[0;34m(\u001b[0m\u001b[0margs\u001b[0m\u001b[0;34m)\u001b[0m\u001b[0;34m\u001b[0m\u001b[0;34m\u001b[0m\u001b[0m\n\u001b[0m\u001b[1;32m   1323\u001b[0m     forward_backward = self._select_forward_and_backward_functions(\n\u001b[1;32m   1324\u001b[0m         \u001b[0margs\u001b[0m\u001b[0;34m,\u001b[0m\u001b[0;34m\u001b[0m\u001b[0;34m\u001b[0m\u001b[0m\n",
            "\u001b[0;32m/usr/local/lib/python3.11/dist-packages/tensorflow/python/eager/polymorphic_function/atomic_function.py\u001b[0m in \u001b[0;36mcall_preflattened\u001b[0;34m(self, args)\u001b[0m\n\u001b[1;32m    214\u001b[0m   \u001b[0;32mdef\u001b[0m \u001b[0mcall_preflattened\u001b[0m\u001b[0;34m(\u001b[0m\u001b[0mself\u001b[0m\u001b[0;34m,\u001b[0m \u001b[0margs\u001b[0m\u001b[0;34m:\u001b[0m \u001b[0mSequence\u001b[0m\u001b[0;34m[\u001b[0m\u001b[0mcore\u001b[0m\u001b[0;34m.\u001b[0m\u001b[0mTensor\u001b[0m\u001b[0;34m]\u001b[0m\u001b[0;34m)\u001b[0m \u001b[0;34m->\u001b[0m \u001b[0mAny\u001b[0m\u001b[0;34m:\u001b[0m\u001b[0;34m\u001b[0m\u001b[0;34m\u001b[0m\u001b[0m\n\u001b[1;32m    215\u001b[0m     \u001b[0;34m\"\"\"Calls with flattened tensor inputs and returns the structured output.\"\"\"\u001b[0m\u001b[0;34m\u001b[0m\u001b[0;34m\u001b[0m\u001b[0m\n\u001b[0;32m--> 216\u001b[0;31m     \u001b[0mflat_outputs\u001b[0m \u001b[0;34m=\u001b[0m \u001b[0mself\u001b[0m\u001b[0;34m.\u001b[0m\u001b[0mcall_flat\u001b[0m\u001b[0;34m(\u001b[0m\u001b[0;34m*\u001b[0m\u001b[0margs\u001b[0m\u001b[0;34m)\u001b[0m\u001b[0;34m\u001b[0m\u001b[0;34m\u001b[0m\u001b[0m\n\u001b[0m\u001b[1;32m    217\u001b[0m     \u001b[0;32mreturn\u001b[0m \u001b[0mself\u001b[0m\u001b[0;34m.\u001b[0m\u001b[0mfunction_type\u001b[0m\u001b[0;34m.\u001b[0m\u001b[0mpack_output\u001b[0m\u001b[0;34m(\u001b[0m\u001b[0mflat_outputs\u001b[0m\u001b[0;34m)\u001b[0m\u001b[0;34m\u001b[0m\u001b[0;34m\u001b[0m\u001b[0m\n\u001b[1;32m    218\u001b[0m \u001b[0;34m\u001b[0m\u001b[0m\n",
            "\u001b[0;32m/usr/local/lib/python3.11/dist-packages/tensorflow/python/eager/polymorphic_function/atomic_function.py\u001b[0m in \u001b[0;36mcall_flat\u001b[0;34m(self, *args)\u001b[0m\n\u001b[1;32m    249\u001b[0m         \u001b[0;32mwith\u001b[0m \u001b[0mrecord\u001b[0m\u001b[0;34m.\u001b[0m\u001b[0mstop_recording\u001b[0m\u001b[0;34m(\u001b[0m\u001b[0;34m)\u001b[0m\u001b[0;34m:\u001b[0m\u001b[0;34m\u001b[0m\u001b[0;34m\u001b[0m\u001b[0m\n\u001b[1;32m    250\u001b[0m           \u001b[0;32mif\u001b[0m \u001b[0mself\u001b[0m\u001b[0;34m.\u001b[0m\u001b[0m_bound_context\u001b[0m\u001b[0;34m.\u001b[0m\u001b[0mexecuting_eagerly\u001b[0m\u001b[0;34m(\u001b[0m\u001b[0;34m)\u001b[0m\u001b[0;34m:\u001b[0m\u001b[0;34m\u001b[0m\u001b[0;34m\u001b[0m\u001b[0m\n\u001b[0;32m--> 251\u001b[0;31m             outputs = self._bound_context.call_function(\n\u001b[0m\u001b[1;32m    252\u001b[0m                 \u001b[0mself\u001b[0m\u001b[0;34m.\u001b[0m\u001b[0mname\u001b[0m\u001b[0;34m,\u001b[0m\u001b[0;34m\u001b[0m\u001b[0;34m\u001b[0m\u001b[0m\n\u001b[1;32m    253\u001b[0m                 \u001b[0mlist\u001b[0m\u001b[0;34m(\u001b[0m\u001b[0margs\u001b[0m\u001b[0;34m)\u001b[0m\u001b[0;34m,\u001b[0m\u001b[0;34m\u001b[0m\u001b[0;34m\u001b[0m\u001b[0m\n",
            "\u001b[0;32m/usr/local/lib/python3.11/dist-packages/tensorflow/python/eager/context.py\u001b[0m in \u001b[0;36mcall_function\u001b[0;34m(self, name, tensor_inputs, num_outputs)\u001b[0m\n\u001b[1;32m   1681\u001b[0m     \u001b[0mcancellation_context\u001b[0m \u001b[0;34m=\u001b[0m \u001b[0mcancellation\u001b[0m\u001b[0;34m.\u001b[0m\u001b[0mcontext\u001b[0m\u001b[0;34m(\u001b[0m\u001b[0;34m)\u001b[0m\u001b[0;34m\u001b[0m\u001b[0;34m\u001b[0m\u001b[0m\n\u001b[1;32m   1682\u001b[0m     \u001b[0;32mif\u001b[0m \u001b[0mcancellation_context\u001b[0m \u001b[0;32mis\u001b[0m \u001b[0;32mNone\u001b[0m\u001b[0;34m:\u001b[0m\u001b[0;34m\u001b[0m\u001b[0;34m\u001b[0m\u001b[0m\n\u001b[0;32m-> 1683\u001b[0;31m       outputs = execute.execute(\n\u001b[0m\u001b[1;32m   1684\u001b[0m           \u001b[0mname\u001b[0m\u001b[0;34m.\u001b[0m\u001b[0mdecode\u001b[0m\u001b[0;34m(\u001b[0m\u001b[0;34m\"utf-8\"\u001b[0m\u001b[0;34m)\u001b[0m\u001b[0;34m,\u001b[0m\u001b[0;34m\u001b[0m\u001b[0;34m\u001b[0m\u001b[0m\n\u001b[1;32m   1685\u001b[0m           \u001b[0mnum_outputs\u001b[0m\u001b[0;34m=\u001b[0m\u001b[0mnum_outputs\u001b[0m\u001b[0;34m,\u001b[0m\u001b[0;34m\u001b[0m\u001b[0;34m\u001b[0m\u001b[0m\n",
            "\u001b[0;32m/usr/local/lib/python3.11/dist-packages/tensorflow/python/eager/execute.py\u001b[0m in \u001b[0;36mquick_execute\u001b[0;34m(op_name, num_outputs, inputs, attrs, ctx, name)\u001b[0m\n\u001b[1;32m     51\u001b[0m   \u001b[0;32mtry\u001b[0m\u001b[0;34m:\u001b[0m\u001b[0;34m\u001b[0m\u001b[0;34m\u001b[0m\u001b[0m\n\u001b[1;32m     52\u001b[0m     \u001b[0mctx\u001b[0m\u001b[0;34m.\u001b[0m\u001b[0mensure_initialized\u001b[0m\u001b[0;34m(\u001b[0m\u001b[0;34m)\u001b[0m\u001b[0;34m\u001b[0m\u001b[0;34m\u001b[0m\u001b[0m\n\u001b[0;32m---> 53\u001b[0;31m     tensors = pywrap_tfe.TFE_Py_Execute(ctx._handle, device_name, op_name,\n\u001b[0m\u001b[1;32m     54\u001b[0m                                         inputs, attrs, num_outputs)\n\u001b[1;32m     55\u001b[0m   \u001b[0;32mexcept\u001b[0m \u001b[0mcore\u001b[0m\u001b[0;34m.\u001b[0m\u001b[0m_NotOkStatusException\u001b[0m \u001b[0;32mas\u001b[0m \u001b[0me\u001b[0m\u001b[0;34m:\u001b[0m\u001b[0;34m\u001b[0m\u001b[0;34m\u001b[0m\u001b[0m\n",
            "\u001b[0;31mKeyboardInterrupt\u001b[0m: "
          ]
        }
      ]
    },
    {
      "cell_type": "markdown",
      "source": [
        "#6.Implement Neural network architecture for Multiclass Models for the data set available at Fashion MNIST data (available at https://keras.io/2.17/api/datasets/fashion_mnist/)"
      ],
      "metadata": {
        "id": "DxTVdk_pWgde"
      }
    },
    {
      "cell_type": "code",
      "source": [
        "import tensorflow as tf\n",
        "from tensorflow import keras\n",
        "import numpy as np\n",
        "import matplotlib.pyplot as plt\n",
        "# Load the Fashion MNIST dataset\n",
        "(x_train, y_train), (x_test, y_test) = keras.datasets.fashion_mnist.load_data()\n",
        "# Normalize pixel values to the range [0, 1]\n",
        "x_train, x_test = x_train / 255.0, x_test / 255.0\n",
        "# Flatten the 28x28 images into 1D vectors of size 784\n",
        "x_train = x_train.reshape(-1, 784)\n",
        "x_test = x_test.reshape(-1, 784)\n",
        "# Convert labels to one-hot encoding\n",
        "y_train = keras.utils.to_categorical(y_train, 10)\n",
        "y_test = keras.utils.to_categorical(y_test, 10)\n",
        "# Define the neural network model\n",
        "model = keras.Sequential([\n",
        "    keras.layers.Dense(256, activation='relu', input_shape=(784,)),  # Hidden layer 1\n",
        "    keras.layers.Dense(128, activation='relu'),  # Hidden layer 2\n",
        "    keras.layers.Dense(64, activation='relu'),  # Hidden layer 3\n",
        "    keras.layers.Dense(10, activation='softmax')  # Output layer (10 classes)\n",
        "])\n",
        "# Compile the model\n",
        "model.compile(optimizer='adam', loss='categorical_crossentropy', metrics=['accuracy'])\n",
        "# Train the model\n",
        "model.fit(x_train, y_train, epochs=15, batch_size=32, validation_data=(x_test, y_test))\n",
        "# Evaluate the model on the test set\n",
        "test_loss, test_accuracy = model.evaluate(x_test, y_test)\n",
        "print(f\"\\nTest Accuracy: {test_accuracy:.4f}\")\n",
        "# Define class names for Fashion MNIST\n",
        "class_names = [\"T-shirt/top\", \"Trouser\", \"Pullover\", \"Dress\", \"Coat\",\n",
        "               \"Sandal\", \"Shirt\", \"Sneaker\", \"Bag\", \"Ankle boot\"]\n",
        "# Predict a few test images\n",
        "predictions = model.predict(x_test[:5])\n",
        "# Display results\n",
        "for i in range(5):\n",
        "    plt.imshow(x_test[i].reshape(28, 28), cmap='gray')\n",
        "    plt.title(f\"Predicted: {class_names[np.argmax(predictions[i])]}, Actual: {class_names[np.argmax(y_test[i])]}\")\n",
        "    plt.axis('off')\n",
        "    plt.show()"
      ],
      "metadata": {
        "colab": {
          "base_uri": "https://localhost:8080/",
          "height": 1000
        },
        "id": "s2oBnQ1MTz0l",
        "outputId": "0ac7841b-2c20-48c9-9713-286d2fe3d252",
        "collapsed": true
      },
      "execution_count": null,
      "outputs": [
        {
          "output_type": "stream",
          "name": "stdout",
          "text": [
            "Downloading data from https://storage.googleapis.com/tensorflow/tf-keras-datasets/train-labels-idx1-ubyte.gz\n",
            "\u001b[1m29515/29515\u001b[0m \u001b[32m━━━━━━━━━━━━━━━━━━━━\u001b[0m\u001b[37m\u001b[0m \u001b[1m0s\u001b[0m 0us/step\n",
            "Downloading data from https://storage.googleapis.com/tensorflow/tf-keras-datasets/train-images-idx3-ubyte.gz\n",
            "\u001b[1m26421880/26421880\u001b[0m \u001b[32m━━━━━━━━━━━━━━━━━━━━\u001b[0m\u001b[37m\u001b[0m \u001b[1m0s\u001b[0m 0us/step\n",
            "Downloading data from https://storage.googleapis.com/tensorflow/tf-keras-datasets/t10k-labels-idx1-ubyte.gz\n",
            "\u001b[1m5148/5148\u001b[0m \u001b[32m━━━━━━━━━━━━━━━━━━━━\u001b[0m\u001b[37m\u001b[0m \u001b[1m0s\u001b[0m 1us/step\n",
            "Downloading data from https://storage.googleapis.com/tensorflow/tf-keras-datasets/t10k-images-idx3-ubyte.gz\n",
            "\u001b[1m4422102/4422102\u001b[0m \u001b[32m━━━━━━━━━━━━━━━━━━━━\u001b[0m\u001b[37m\u001b[0m \u001b[1m0s\u001b[0m 0us/step\n",
            "Epoch 1/15\n",
            "\u001b[1m1875/1875\u001b[0m \u001b[32m━━━━━━━━━━━━━━━━━━━━\u001b[0m\u001b[37m\u001b[0m \u001b[1m12s\u001b[0m 6ms/step - accuracy: 0.7740 - loss: 0.6351 - val_accuracy: 0.8537 - val_loss: 0.4029\n",
            "Epoch 2/15\n",
            "\u001b[1m1875/1875\u001b[0m \u001b[32m━━━━━━━━━━━━━━━━━━━━\u001b[0m\u001b[37m\u001b[0m \u001b[1m20s\u001b[0m 5ms/step - accuracy: 0.8627 - loss: 0.3703 - val_accuracy: 0.8585 - val_loss: 0.3913\n",
            "Epoch 3/15\n",
            "\u001b[1m1875/1875\u001b[0m \u001b[32m━━━━━━━━━━━━━━━━━━━━\u001b[0m\u001b[37m\u001b[0m \u001b[1m21s\u001b[0m 6ms/step - accuracy: 0.8791 - loss: 0.3242 - val_accuracy: 0.8669 - val_loss: 0.3608\n",
            "Epoch 4/15\n",
            "\u001b[1m1875/1875\u001b[0m \u001b[32m━━━━━━━━━━━━━━━━━━━━\u001b[0m\u001b[37m\u001b[0m \u001b[1m14s\u001b[0m 7ms/step - accuracy: 0.8860 - loss: 0.3049 - val_accuracy: 0.8758 - val_loss: 0.3445\n",
            "Epoch 5/15\n",
            "\u001b[1m1875/1875\u001b[0m \u001b[32m━━━━━━━━━━━━━━━━━━━━\u001b[0m\u001b[37m\u001b[0m \u001b[1m11s\u001b[0m 6ms/step - accuracy: 0.8922 - loss: 0.2890 - val_accuracy: 0.8746 - val_loss: 0.3592\n",
            "Epoch 6/15\n",
            "\u001b[1m1875/1875\u001b[0m \u001b[32m━━━━━━━━━━━━━━━━━━━━\u001b[0m\u001b[37m\u001b[0m \u001b[1m11s\u001b[0m 6ms/step - accuracy: 0.8962 - loss: 0.2767 - val_accuracy: 0.8725 - val_loss: 0.3672\n",
            "Epoch 7/15\n",
            "\u001b[1m1875/1875\u001b[0m \u001b[32m━━━━━━━━━━━━━━━━━━━━\u001b[0m\u001b[37m\u001b[0m \u001b[1m21s\u001b[0m 6ms/step - accuracy: 0.9028 - loss: 0.2594 - val_accuracy: 0.8744 - val_loss: 0.3580\n",
            "Epoch 8/15\n",
            "\u001b[1m1875/1875\u001b[0m \u001b[32m━━━━━━━━━━━━━━━━━━━━\u001b[0m\u001b[37m\u001b[0m \u001b[1m12s\u001b[0m 6ms/step - accuracy: 0.9067 - loss: 0.2544 - val_accuracy: 0.8822 - val_loss: 0.3315\n",
            "Epoch 9/15\n",
            "\u001b[1m1875/1875\u001b[0m \u001b[32m━━━━━━━━━━━━━━━━━━━━\u001b[0m\u001b[37m\u001b[0m \u001b[1m18s\u001b[0m 5ms/step - accuracy: 0.9080 - loss: 0.2430 - val_accuracy: 0.8799 - val_loss: 0.3600\n",
            "Epoch 10/15\n",
            "\u001b[1m1875/1875\u001b[0m \u001b[32m━━━━━━━━━━━━━━━━━━━━\u001b[0m\u001b[37m\u001b[0m \u001b[1m11s\u001b[0m 6ms/step - accuracy: 0.9122 - loss: 0.2309 - val_accuracy: 0.8807 - val_loss: 0.3412\n",
            "Epoch 11/15\n",
            "\u001b[1m1875/1875\u001b[0m \u001b[32m━━━━━━━━━━━━━━━━━━━━\u001b[0m\u001b[37m\u001b[0m \u001b[1m10s\u001b[0m 6ms/step - accuracy: 0.9180 - loss: 0.2185 - val_accuracy: 0.8856 - val_loss: 0.3338\n",
            "Epoch 12/15\n",
            "\u001b[1m1875/1875\u001b[0m \u001b[32m━━━━━━━━━━━━━━━━━━━━\u001b[0m\u001b[37m\u001b[0m \u001b[1m11s\u001b[0m 6ms/step - accuracy: 0.9200 - loss: 0.2113 - val_accuracy: 0.8876 - val_loss: 0.3538\n",
            "Epoch 13/15\n",
            "\u001b[1m1875/1875\u001b[0m \u001b[32m━━━━━━━━━━━━━━━━━━━━\u001b[0m\u001b[37m\u001b[0m \u001b[1m20s\u001b[0m 5ms/step - accuracy: 0.9214 - loss: 0.2081 - val_accuracy: 0.8868 - val_loss: 0.3399\n",
            "Epoch 14/15\n",
            "\u001b[1m1875/1875\u001b[0m \u001b[32m━━━━━━━━━━━━━━━━━━━━\u001b[0m\u001b[37m\u001b[0m \u001b[1m11s\u001b[0m 6ms/step - accuracy: 0.9247 - loss: 0.1992 - val_accuracy: 0.8870 - val_loss: 0.3400\n",
            "Epoch 15/15\n",
            "\u001b[1m1875/1875\u001b[0m \u001b[32m━━━━━━━━━━━━━━━━━━━━\u001b[0m\u001b[37m\u001b[0m \u001b[1m19s\u001b[0m 5ms/step - accuracy: 0.9246 - loss: 0.1973 - val_accuracy: 0.8884 - val_loss: 0.3589\n",
            "\u001b[1m313/313\u001b[0m \u001b[32m━━━━━━━━━━━━━━━━━━━━\u001b[0m\u001b[37m\u001b[0m \u001b[1m1s\u001b[0m 3ms/step - accuracy: 0.8842 - loss: 0.3507\n",
            "\n",
            "Test Accuracy: 0.8884\n",
            "\u001b[1m1/1\u001b[0m \u001b[32m━━━━━━━━━━━━━━━━━━━━\u001b[0m\u001b[37m\u001b[0m \u001b[1m0s\u001b[0m 62ms/step\n"
          ]
        },
        {
          "output_type": "display_data",
          "data": {
            "text/plain": [
              "<Figure size 640x480 with 1 Axes>"
            ],
            "image/png": "[encoded data removed]"
          },
          "metadata": {}
        },
        {
          "output_type": "display_data",
          "data": {
            "text/plain": [
              "<Figure size 640x480 with 1 Axes>"
            ],
            "image/png": "[encoded data removed]"
          },
          "metadata": {}
        },
        {
          "output_type": "display_data",
          "data": {
            "text/plain": [
              "<Figure size 640x480 with 1 Axes>"
            ],
            "image/png": "[encoded data removed]"
          },
          "metadata": {}
        },
        {
          "output_type": "display_data",
          "data": {
            "text/plain": [
              "<Figure size 640x480 with 1 Axes>"
            ],
            "image/png": "[encoded data removed]"
          },
          "metadata": {}
        },
        {
          "output_type": "display_data",
          "data": {
            "text/plain": [
              "<Figure size 640x480 with 1 Axes>"
            ],
            "image/png": "[encoded data removed]"
          },
          "metadata": {}
        }
      ]
    },
    {
      "cell_type": "markdown",
      "source": [
        "#7.Implement Neural network architecture for Multiclass Models for the data set available at CIFAR10 data (available at https://keras.io/2.17/api/datasets/cifar10/)"
      ],
      "metadata": {
        "id": "8K5GF5JrWwpj"
      }
    },
    {
      "cell_type": "code",
      "source": [
        "import tensorflow as tf\n",
        "from tensorflow import keras\n",
        "import numpy as np\n",
        "import matplotlib.pyplot as plt\n",
        "# Load the CIFAR-10 dataset\n",
        "(x_train, y_train), (x_test, y_test) = keras.datasets.cifar10.load_data()\n",
        "# Normalize pixel values to the range [0, 1]\n",
        "x_train, x_test = x_train / 255.0, x_test / 255.0\n",
        "# Convert labels to one-hot encoding\n",
        "y_train = keras.utils.to_categorical(y_train, 10)\n",
        "y_test = keras.utils.to_categorical(y_test, 10)\n",
        "# Define the neural network model\n",
        "model = keras.Sequential([\n",
        "    keras.layers.Flatten(input_shape=(32, 32, 3)),  # Flatten input images\n",
        "    keras.layers.Dense(512, activation='relu'),  # Hidden layer 1\n",
        "    keras.layers.Dense(256, activation='relu'),  # Hidden layer 2\n",
        "    keras.layers.Dense(128, activation='relu'),  # Hidden layer 3\n",
        "    keras.layers.Dense(10, activation='softmax')  # Output layer (10 classes)\n",
        "])\n",
        "# Compile the model\n",
        "model.compile(optimizer='adam', loss='categorical_crossentropy', metrics=['accuracy'])\n",
        "# Train the model\n",
        "model.fit(x_train, y_train, epochs=20, batch_size=64, validation_data=(x_test, y_test))\n",
        "# Evaluate the model on the test set\n",
        "test_loss, test_accuracy = model.evaluate(x_test, y_test,verbose=0)\n",
        "print(f\"\\nTest Accuracy: {test_accuracy:.4f}\")\n",
        "# Define class names for CIFAR-10\n",
        "class_names = [\"Airplane\", \"Automobile\", \"Bird\", \"Cat\", \"Deer\",\n",
        "               \"Dog\", \"Frog\", \"Horse\", \"Ship\", \"Truck\"]\n",
        "# Predict a few test images\n",
        "predictions = model.predict(x_test[:5])\n",
        "# Display results\n",
        "for i in range(5):\n",
        "    plt.imshow(x_test[i])\n",
        "    plt.title(f\"Predicted: {class_names[np.argmax(predictions[i])]}, Actual: {class_names[np.argmax(y_test[i])]}\")\n",
        "    plt.axis('off')\n",
        "    plt.show()"
      ],
      "metadata": {
        "colab": {
          "base_uri": "https://localhost:8080/",
          "height": 1000
        },
        "id": "njad8CiyTzx5",
        "outputId": "84a057bc-5d55-46b5-f86c-6594603e1d47",
        "collapsed": true
      },
      "execution_count": null,
      "outputs": [
        {
          "output_type": "stream",
          "name": "stdout",
          "text": [
            "Downloading data from https://www.cs.toronto.edu/~kriz/cifar-10-python.tar.gz\n",
            "\u001b[1m170498071/170498071\u001b[0m \u001b[32m━━━━━━━━━━━━━━━━━━━━\u001b[0m\u001b[37m\u001b[0m \u001b[1m2s\u001b[0m 0us/step\n"
          ]
        },
        {
          "output_type": "stream",
          "name": "stderr",
          "text": [
            "/usr/local/lib/python3.11/dist-packages/keras/src/layers/reshaping/flatten.py:37: UserWarning: Do not pass an `input_shape`/`input_dim` argument to a layer. When using Sequential models, prefer using an `Input(shape)` object as the first layer in the model instead.\n",
            "  super().__init__(**kwargs)\n"
          ]
        },
        {
          "output_type": "stream",
          "name": "stdout",
          "text": [
            "Epoch 1/20\n",
            "\u001b[1m782/782\u001b[0m \u001b[32m━━━━━━━━━━━━━━━━━━━━\u001b[0m\u001b[37m\u001b[0m \u001b[1m27s\u001b[0m 33ms/step - accuracy: 0.2731 - loss: 2.0037 - val_accuracy: 0.3499 - val_loss: 1.8100\n",
            "Epoch 2/20\n",
            "\u001b[1m782/782\u001b[0m \u001b[32m━━━━━━━━━━━━━━━━━━━━\u001b[0m\u001b[37m\u001b[0m \u001b[1m23s\u001b[0m 29ms/step - accuracy: 0.3787 - loss: 1.7122 - val_accuracy: 0.4132 - val_loss: 1.6281\n",
            "Epoch 3/20\n",
            "\u001b[1m782/782\u001b[0m \u001b[32m━━━━━━━━━━━━━━━━━━━━\u001b[0m\u001b[37m\u001b[0m \u001b[1m45s\u001b[0m 34ms/step - accuracy: 0.4247 - loss: 1.6027 - val_accuracy: 0.4141 - val_loss: 1.6084\n",
            "Epoch 4/20\n",
            "\u001b[1m782/782\u001b[0m \u001b[32m━━━━━━━━━━━━━━━━━━━━\u001b[0m\u001b[37m\u001b[0m \u001b[1m41s\u001b[0m 35ms/step - accuracy: 0.4468 - loss: 1.5369 - val_accuracy: 0.4347 - val_loss: 1.5895\n",
            "Epoch 5/20\n",
            "\u001b[1m782/782\u001b[0m \u001b[32m━━━━━━━━━━━━━━━━━━━━\u001b[0m\u001b[37m\u001b[0m \u001b[1m38s\u001b[0m 31ms/step - accuracy: 0.4649 - loss: 1.4936 - val_accuracy: 0.4641 - val_loss: 1.4985\n",
            "Epoch 6/20\n",
            "\u001b[1m782/782\u001b[0m \u001b[32m━━━━━━━━━━━━━━━━━━━━\u001b[0m\u001b[37m\u001b[0m \u001b[1m45s\u001b[0m 36ms/step - accuracy: 0.4821 - loss: 1.4550 - val_accuracy: 0.4522 - val_loss: 1.5596\n",
            "Epoch 7/20\n",
            "\u001b[1m782/782\u001b[0m \u001b[32m━━━━━━━━━━━━━━━━━━━━\u001b[0m\u001b[37m\u001b[0m \u001b[1m36s\u001b[0m 30ms/step - accuracy: 0.4870 - loss: 1.4274 - val_accuracy: 0.4942 - val_loss: 1.4377\n",
            "Epoch 8/20\n",
            "\u001b[1m782/782\u001b[0m \u001b[32m━━━━━━━━━━━━━━━━━━━━\u001b[0m\u001b[37m\u001b[0m \u001b[1m41s\u001b[0m 31ms/step - accuracy: 0.5062 - loss: 1.3841 - val_accuracy: 0.4789 - val_loss: 1.4739\n",
            "Epoch 9/20\n",
            "\u001b[1m782/782\u001b[0m \u001b[32m━━━━━━━━━━━━━━━━━━━━\u001b[0m\u001b[37m\u001b[0m \u001b[1m41s\u001b[0m 31ms/step - accuracy: 0.5137 - loss: 1.3599 - val_accuracy: 0.5010 - val_loss: 1.4254\n",
            "Epoch 10/20\n",
            "\u001b[1m782/782\u001b[0m \u001b[32m━━━━━━━━━━━━━━━━━━━━\u001b[0m\u001b[37m\u001b[0m \u001b[1m41s\u001b[0m 31ms/step - accuracy: 0.5175 - loss: 1.3360 - val_accuracy: 0.4937 - val_loss: 1.4300\n",
            "Epoch 11/20\n",
            "\u001b[1m782/782\u001b[0m \u001b[32m━━━━━━━━━━━━━━━━━━━━\u001b[0m\u001b[37m\u001b[0m \u001b[1m42s\u001b[0m 32ms/step - accuracy: 0.5314 - loss: 1.3077 - val_accuracy: 0.4775 - val_loss: 1.4806\n",
            "Epoch 12/20\n",
            "\u001b[1m782/782\u001b[0m \u001b[32m━━━━━━━━━━━━━━━━━━━━\u001b[0m\u001b[37m\u001b[0m \u001b[1m39s\u001b[0m 29ms/step - accuracy: 0.5356 - loss: 1.2960 - val_accuracy: 0.4810 - val_loss: 1.4644\n",
            "Epoch 13/20\n",
            "\u001b[1m782/782\u001b[0m \u001b[32m━━━━━━━━━━━━━━━━━━━━\u001b[0m\u001b[37m\u001b[0m \u001b[1m44s\u001b[0m 33ms/step - accuracy: 0.5459 - loss: 1.2570 - val_accuracy: 0.4960 - val_loss: 1.4454\n",
            "Epoch 14/20\n",
            "\u001b[1m782/782\u001b[0m \u001b[32m━━━━━━━━━━━━━━━━━━━━\u001b[0m\u001b[37m\u001b[0m \u001b[1m40s\u001b[0m 32ms/step - accuracy: 0.5527 - loss: 1.2336 - val_accuracy: 0.5053 - val_loss: 1.3948\n",
            "Epoch 15/20\n",
            "\u001b[1m782/782\u001b[0m \u001b[32m━━━━━━━━━━━━━━━━━━━━\u001b[0m\u001b[37m\u001b[0m \u001b[1m42s\u001b[0m 33ms/step - accuracy: 0.5686 - loss: 1.2106 - val_accuracy: 0.5009 - val_loss: 1.4258\n",
            "Epoch 16/20\n",
            "\u001b[1m782/782\u001b[0m \u001b[32m━━━━━━━━━━━━━━━━━━━━\u001b[0m\u001b[37m\u001b[0m \u001b[1m41s\u001b[0m 33ms/step - accuracy: 0.5696 - loss: 1.2026 - val_accuracy: 0.5095 - val_loss: 1.4042\n",
            "Epoch 17/20\n",
            "\u001b[1m782/782\u001b[0m \u001b[32m━━━━━━━━━━━━━━━━━━━━\u001b[0m\u001b[37m\u001b[0m \u001b[1m39s\u001b[0m 31ms/step - accuracy: 0.5719 - loss: 1.1858 - val_accuracy: 0.5047 - val_loss: 1.4130\n",
            "Epoch 18/20\n",
            "\u001b[1m782/782\u001b[0m \u001b[32m━━━━━━━━━━━━━━━━━━━━\u001b[0m\u001b[37m\u001b[0m \u001b[1m41s\u001b[0m 31ms/step - accuracy: 0.5867 - loss: 1.1548 - val_accuracy: 0.5028 - val_loss: 1.4143\n",
            "Epoch 19/20\n",
            "\u001b[1m782/782\u001b[0m \u001b[32m━━━━━━━━━━━━━━━━━━━━\u001b[0m\u001b[37m\u001b[0m \u001b[1m41s\u001b[0m 31ms/step - accuracy: 0.5892 - loss: 1.1452 - val_accuracy: 0.5003 - val_loss: 1.4434\n",
            "Epoch 20/20\n",
            "\u001b[1m782/782\u001b[0m \u001b[32m━━━━━━━━━━━━━━━━━━━━\u001b[0m\u001b[37m\u001b[0m \u001b[1m40s\u001b[0m 30ms/step - accuracy: 0.5976 - loss: 1.1315 - val_accuracy: 0.5104 - val_loss: 1.4222\n",
            "\u001b[1m313/313\u001b[0m \u001b[32m━━━━━━━━━━━━━━━━━━━━\u001b[0m\u001b[37m\u001b[0m \u001b[1m2s\u001b[0m 7ms/step - accuracy: 0.5103 - loss: 1.4270\n",
            "\n",
            "Test Accuracy: 0.5104\n",
            "\u001b[1m1/1\u001b[0m \u001b[32m━━━━━━━━━━━━━━━━━━━━\u001b[0m\u001b[37m\u001b[0m \u001b[1m0s\u001b[0m 98ms/step\n"
          ]
        },
        {
          "output_type": "display_data",
          "data": {
            "text/plain": [
              "<Figure size 640x480 with 1 Axes>"
            ],
            "image/png": "[encoded data removed]"
          },
          "metadata": {}
        },
        {
          "output_type": "display_data",
          "data": {
            "text/plain": [
              "<Figure size 640x480 with 1 Axes>"
            ],
            "image/png": "[encoded data removed]"
          },
          "metadata": {}
        },
        {
          "output_type": "display_data",
          "data": {
            "text/plain": [
              "<Figure size 640x480 with 1 Axes>"
            ],
            "image/png": "[encoded data removed]"
          },
          "metadata": {}
        },
        {
          "output_type": "display_data",
          "data": {
            "text/plain": [
              "<Figure size 640x480 with 1 Axes>"
            ],
            "image/png": "[encoded data removed]"
          },
          "metadata": {}
        },
        {
          "output_type": "display_data",
          "data": {
            "text/plain": [
              "<Figure size 640x480 with 1 Axes>"
            ],
            "image/png": "[encoded data removed]"
          },
          "metadata": {}
        }
      ]
    },
    {
      "cell_type": "markdown",
      "source": [
        "# WASTE LIST"
      ],
      "metadata": {
        "id": "pCaa0Z8RZqEL"
      }
    },
    {
      "cell_type": "code",
      "source": [
        "import numpy as np\n",
        "from tensorflow.keras.models import Sequential\n",
        "from tensorflow.keras.layers import Embedding, Dense, Flatten\n",
        "from tensorflow.keras.preprocessing.text import Tokenizer\n",
        "from tensorflow.keras.utils import to_categorical\n",
        "# Step 1: Prepare the corpus\n",
        "corpus = ['The cat sat on the mat', 'The dog ran in the park', 'The bird sang in the tree']\n",
        "# Step 2: Tokenize the text\n",
        "tokenizer = Tokenizer()\n",
        "tokenizer.fit_on_texts(corpus)\n",
        "vocab_size = len(tokenizer.word_index) + 1  # Plus one for padding\n",
        "word_index = tokenizer.word_index\n",
        "print(\"Word Index:\", word_index)\n",
        "# Step 3: Create context-target pairs for CBOW (context is 2 words before and after the target word)\n",
        "def generate_context_target_pairs(corpus, window_size=2):\n",
        "    context = []\n",
        "    target = []\n",
        "    for sentence in corpus:\n",
        "        words = sentence.split()\n",
        "        for i in range(window_size, len(words) - window_size):\n",
        "            context_words = words[i-window_size:i] + words[i+1:i+window_size+1]\n",
        "            target_word = words[i]\n",
        "            context.append([word_index[word] for word in context_words])\n",
        "            target.append(word_index[target_word])\n",
        "    return np.array(context), np.array(target)\n",
        "context_data, target_data = generate_context_target_pairs(corpus)\n",
        "# Step 4: Convert target labels to one-hot encoding\n",
        "target_data = to_categorical(target_data, num_classes=vocab_size)\n",
        "# Step 5: Build the CBOW model\n",
        "embedding_dim = 5  # Dimensionality of the embedding layer\n",
        "model = Sequential()\n",
        "model.add(Embedding(input_dim=vocab_size, output_dim=embedding_dim, input_length=4))\n",
        "model.add(Flatten())\n",
        "model.add(Dense(vocab_size, activation='softmax'))\n",
        "model.compile(optimizer='adam', loss='categorical_crossentropy', metrics=['accuracy'])\n",
        "# Step 6: Train the model\n",
        "model.fit(context_data, target_data, epochs=100)\n",
        "# Step 7: Get the word embeddings (weights from the Embedding layer)\n",
        "word_embeddings = model.layers[0].get_weights()[0]\n",
        "print(\"Word Embeddings:\\n\", word_embeddings)\n",
        "# Optionally, get the vector for a specific word\n",
        "word_vector = word_embeddings[word_index['dog']]  # Get embedding for the word 'dog'\n",
        "print(\"Embedding for 'dog':\", word_vector)"
      ],
      "metadata": {
        "id": "DDzFl5pqTzfQ"
      },
      "execution_count": null,
      "outputs": []
    },
    {
      "cell_type": "code",
      "source": [
        "import numpy as np\n",
        "from tensorflow.keras.models import Sequential\n",
        "from tensorflow.keras.layers import Embedding, Dense, Flatten\n",
        "from tensorflow.keras.preprocessing.text import Tokenizer\n",
        "from tensorflow.keras.utils import to_categorical\n",
        "# Step 1: Prepare the corpus\n",
        "corpus = [\"the quick brown fox jumps\", \"over the lazy dog\", \"hello world\"]\n",
        "# Step 2: Tokenize the text\n",
        "tokenizer = Tokenizer()\n",
        "tokenizer.fit_on_texts(corpus)\n",
        "vocab_size = len(tokenizer.word_index) + 1  # Plus one for padding\n",
        "word_index = tokenizer.word_index\n",
        "print(\"Word Index:\", word_index)\n",
        "# Step 3: Create context-target pairs for CBOW (context is 2 words before and after the target word)\n",
        "def generate_context_target_pairs(corpus, window_size=2):\n",
        "    context = []\n",
        "    target = []\n",
        "    for sentence in corpus:\n",
        "        words = sentence.split()\n",
        "        for i in range(window_size, len(words) - window_size):\n",
        "            context_words = words[i-window_size:i] + words[i+1:i+window_size+1]\n",
        "            target_word = words[i]\n",
        "            context.append([word_index[word] for word in context_words])\n",
        "            target.append(word_index[target_word])\n",
        "    return np.array(context), np.array(target)\n",
        "context_data, target_data = generate_context_target_pairs(corpus)\n",
        "# Step 4: Convert target labels to one-hot encoding\n",
        "target_data = to_categorical(target_data, num_classes=vocab_size)\n",
        "# Step 5: Build the CBOW model\n",
        "embedding_dim = 5  # Dimensionality of the embedding layer\n",
        "model = Sequential()\n",
        "model.add(Embedding(input_dim=vocab_size, output_dim=embedding_dim, input_length=4))\n",
        "model.add(Flatten())\n",
        "model.add(Dense(vocab_size, activation='softmax'))\n",
        "model.compile(optimizer='adam', loss='categorical_crossentropy', metrics=['accuracy'])\n",
        "# Step 6: Train the model\n",
        "model.fit(context_data, target_data, epochs=100)\n",
        "# Step 7: Get the word embeddings (weights from the Embedding layer)\n",
        "word_embeddings = model.layers[0].get_weights()[0]\n",
        "print(\"Word Embeddings:\\n\", word_embeddings)\n",
        "# Optionally, get the vector for a specific word\n",
        "word_vector = word_embeddings[word_index['quick']]  # Get embedding for the word 'quick'\n",
        "print(\"Embedding for 'quick':\", word_vector)"
      ],
      "metadata": {
        "id": "7kefWhDrTzcr"
      },
      "execution_count": null,
      "outputs": []
    },
    {
      "cell_type": "code",
      "source": [],
      "metadata": {
        "id": "-K5r2E6ZTzZ9"
      },
      "execution_count": null,
      "outputs": []
    },
    {
      "cell_type": "code",
      "source": [],
      "metadata": {
        "id": "wpXLCRPVTzXt"
      },
      "execution_count": null,
      "outputs": []
    },
    {
      "cell_type": "code",
      "source": [],
      "metadata": {
        "id": "UL0yvKjLTzU0"
      },
      "execution_count": null,
      "outputs": []
    },
    {
      "cell_type": "markdown",
      "source": [
        "8. Train a Neural Network for Binary Classification (Digit 5 vs Non-5) - MNIST"
      ],
      "metadata": {
        "id": "Fkhao30SLVmG"
      }
    },
    {
      "cell_type": "code",
      "source": [
        "import tensorflow as tf\n",
        "from tensorflow import keras\n",
        "import numpy as np\n",
        "\n",
        "# Load MNIST dataset\n",
        "(x_train, y_train), (x_test, y_test) = keras.datasets.mnist.load_data()\n",
        "\n",
        "# Convert to binary classification (1 if 5, else 0)\n",
        "y_train = (y_train == 5).astype(np.int32)\n",
        "y_test = (y_test == 5).astype(np.int32)\n",
        "\n",
        "# Normalize the images\n",
        "x_train, x_test = x_train / 255.0, x_test / 255.0\n",
        "\n",
        "# Flatten the images (28x28 → 784)\n",
        "x_train = x_train.reshape(-1, 784)\n",
        "x_test = x_test.reshape(-1, 784)\n",
        "\n",
        "# Build the model\n",
        "model = keras.Sequential([\n",
        "    keras.layers.Dense(128, activation=\"relu\", input_shape=(784,)),\n",
        "    keras.layers.Dense(64, activation=\"relu\"),\n",
        "    keras.layers.Dense(1, activation=\"sigmoid\")  # Binary output\n",
        "])\n",
        "\n",
        "model.compile(optimizer=\"adam\", loss=\"binary_crossentropy\", metrics=[\"accuracy\"])\n",
        "\n",
        "# Train the model\n",
        "model.fit(x_train, y_train, epochs=10, batch_size=32, validation_data=(x_test, y_test))\n",
        "\n",
        "# Evaluate the model\n",
        "loss, acc = model.evaluate(x_test, y_test)\n",
        "print(f\"Test Accuracy: {acc:.4f}\")\n"
      ],
      "metadata": {
        "id": "MHBO3au_TzSF",
        "colab": {
          "base_uri": "https://localhost:8080/",
          "height": 0
        },
        "collapsed": true,
        "outputId": "cbcdfdc3-dbcc-4d33-d7d5-2a962bf59528"
      },
      "execution_count": 1,
      "outputs": [
        {
          "output_type": "stream",
          "name": "stdout",
          "text": [
            "Downloading data from https://storage.googleapis.com/tensorflow/tf-keras-datasets/mnist.npz\n",
            "\u001b[1m11490434/11490434\u001b[0m \u001b[32m━━━━━━━━━━━━━━━━━━━━\u001b[0m\u001b[37m\u001b[0m \u001b[1m0s\u001b[0m 0us/step\n"
          ]
        },
        {
          "output_type": "stream",
          "name": "stderr",
          "text": [
            "/usr/local/lib/python3.11/dist-packages/keras/src/layers/core/dense.py:87: UserWarning: Do not pass an `input_shape`/`input_dim` argument to a layer. When using Sequential models, prefer using an `Input(shape)` object as the first layer in the model instead.\n",
            "  super().__init__(activity_regularizer=activity_regularizer, **kwargs)\n"
          ]
        },
        {
          "output_type": "stream",
          "name": "stdout",
          "text": [
            "Epoch 1/10\n",
            "1875/1875 - 6s - 3ms/step - accuracy: 0.9812 - loss: 0.0576\n",
            "Epoch 2/10\n",
            "1875/1875 - 6s - 3ms/step - accuracy: 0.9927 - loss: 0.0233\n",
            "Epoch 3/10\n",
            "1875/1875 - 4s - 2ms/step - accuracy: 0.9947 - loss: 0.0162\n",
            "Epoch 4/10\n",
            "1875/1875 - 5s - 3ms/step - accuracy: 0.9960 - loss: 0.0119\n",
            "Epoch 5/10\n",
            "1875/1875 - 5s - 3ms/step - accuracy: 0.9970 - loss: 0.0088\n",
            "Epoch 6/10\n",
            "1875/1875 - 5s - 3ms/step - accuracy: 0.9977 - loss: 0.0070\n",
            "Epoch 7/10\n",
            "1875/1875 - 4s - 2ms/step - accuracy: 0.9982 - loss: 0.0056\n",
            "Epoch 8/10\n",
            "1875/1875 - 4s - 2ms/step - accuracy: 0.9987 - loss: 0.0039\n",
            "Epoch 9/10\n",
            "1875/1875 - 5s - 3ms/step - accuracy: 0.9988 - loss: 0.0033\n",
            "Epoch 10/10\n",
            "1875/1875 - 4s - 2ms/step - accuracy: 0.9993 - loss: 0.0025\n",
            "\u001b[1m313/313\u001b[0m \u001b[32m━━━━━━━━━━━━━━━━━━━━\u001b[0m\u001b[37m\u001b[0m \u001b[1m1s\u001b[0m 1ms/step - accuracy: 0.9937 - loss: 0.0179\n"
          ]
        },
        {
          "output_type": "execute_result",
          "data": {
            "text/plain": [
              "[0.014703962951898575, 0.9948999881744385]"
            ]
          },
          "metadata": {},
          "execution_count": 1
        }
      ]
    },
    {
      "cell_type": "markdown",
      "source": [
        "9. Train a Binary Classifier (Ankle Boot vs Non-Ankle Boot) - Fashion MNIST"
      ],
      "metadata": {
        "id": "I_sqDDoyLZtt"
      }
    },
    {
      "cell_type": "code",
      "source": [
        "# Load Fashion MNIST dataset\n",
        "(x_train, y_train), (x_test, y_test) = keras.datasets.fashion_mnist.load_data()\n",
        "\n",
        "# Convert to binary classification (1 if Ankle Boot, else 0)\n",
        "y_train = (y_train == 9).astype(np.int32)\n",
        "y_test = (y_test == 9).astype(np.int32)\n",
        "\n",
        "# Normalize and reshape\n",
        "x_train, x_test = x_train / 255.0, x_test / 255.0\n",
        "x_train, x_test = x_train.reshape(-1, 784), x_test.reshape(-1, 784)\n",
        "\n",
        "# Build the model\n",
        "model = keras.Sequential([\n",
        "    keras.layers.Dense(128, activation=\"relu\", input_shape=(784,)),\n",
        "    keras.layers.Dense(64, activation=\"relu\"),\n",
        "    keras.layers.Dense(1, activation=\"sigmoid\")\n",
        "])\n",
        "\n",
        "model.compile(optimizer=\"adam\", loss=\"binary_crossentropy\", metrics=[\"accuracy\"])\n",
        "model.fit(x_train, y_train, epochs=10, batch_size=32, validation_data=(x_test, y_test))\n"
      ],
      "metadata": {
        "id": "WZtdta33Lfiy"
      },
      "execution_count": null,
      "outputs": []
    },
    {
      "cell_type": "markdown",
      "source": [
        "10. Train a Binary Classifier (Automobile vs Non-Automobile) - CIFAR-10\n"
      ],
      "metadata": {
        "id": "hUqsgNYeLg8v"
      }
    },
    {
      "cell_type": "code",
      "source": [
        "\n",
        "(x_train, y_train), (x_test, y_test) = keras.datasets.cifar10.load_data()\n",
        "\n",
        "# Convert to binary classification (1 if Automobile, else 0)\n",
        "y_train = (y_train == 1).astype(np.int32).flatten()\n",
        "y_test = (y_test == 1).astype(np.int32).flatten()\n",
        "\n",
        "# Normalize the images\n",
        "x_train, x_test = x_train / 255.0, x_test / 255.0\n",
        "\n",
        "# Build CNN model\n",
        "model = keras.Sequential([\n",
        "    keras.layers.Conv2D(32, (3,3), activation=\"relu\", input_shape=(32,32,3)),\n",
        "    keras.layers.MaxPooling2D(2,2),\n",
        "    keras.layers.Conv2D(64, (3,3), activation=\"relu\"),\n",
        "    keras.layers.MaxPooling2D(2,2),\n",
        "    keras.layers.Flatten(),\n",
        "    keras.layers.Dense(64, activation=\"relu\"),\n",
        "    keras.layers.Dense(1, activation=\"sigmoid\")\n",
        "])\n",
        "\n",
        "model.compile(optimizer=\"adam\", loss=\"binary_crossentropy\", metrics=[\"accuracy\"])\n",
        "model.fit(x_train, y_train, epochs=10, batch_size=32, validation_data=(x_test, y_test))\n",
        "\n"
      ],
      "metadata": {
        "id": "XGc3AQ9PLkA3"
      },
      "execution_count": null,
      "outputs": []
    },
    {
      "cell_type": "markdown",
      "source": [
        "11. & 12. Effect of Gradient Descent Strategies on Multiclass Models"
      ],
      "metadata": {
        "id": "F7lXGFP3L0gy"
      }
    },
    {
      "cell_type": "code",
      "source": [
        "optimizers = {\n",
        "    \"SGD\": keras.optimizers.SGD(),\n",
        "    \"Batch Gradient\": keras.optimizers.SGD(momentum=0.9),\n",
        "    \"Mini-Batch\": keras.optimizers.Adam()\n",
        "}\n",
        "\n",
        "for name, optimizer in optimizers.items():\n",
        "    print(f\"\\nTraining with {name}...\\n\")\n",
        "\n",
        "    # Load MNIST dataset\n",
        "    (x_train, y_train), (x_test, y_test) = keras.datasets.mnist.load_data()\n",
        "\n",
        "    # Normalize and reshape\n",
        "    x_train, x_test = x_train / 255.0, x_test / 255.0\n",
        "    x_train, x_test = x_train.reshape(-1, 784), x_test.reshape(-1, 784)\n",
        "\n",
        "    # Build Model\n",
        "    model = keras.Sequential([\n",
        "        keras.layers.Dense(128, activation=\"relu\", input_shape=(784,)),\n",
        "        keras.layers.Dense(64, activation=\"relu\"),\n",
        "        keras.layers.Dense(10, activation=\"softmax\")\n",
        "    ])\n",
        "\n",
        "    model.compile(optimizer=optimizer, loss=\"sparse_categorical_crossentropy\", metrics=[\"accuracy\"])\n",
        "\n",
        "    # Train\n",
        "    model.fit(x_train, y_train, epochs=5, batch_size=32 if name == \"Mini-Batch\" else 60000, validation_data=(x_test, y_test))\n"
      ],
      "metadata": {
        "id": "ybJD1R9NTzPr"
      },
      "execution_count": null,
      "outputs": []
    },
    {
      "cell_type": "code",
      "source": [],
      "metadata": {
        "id": "OquoKngxTzNF"
      },
      "execution_count": null,
      "outputs": []
    },
    {
      "cell_type": "code",
      "source": [],
      "metadata": {
        "id": "lkpYZJQ-TzKU"
      },
      "execution_count": null,
      "outputs": []
    },
    {
      "cell_type": "code",
      "source": [],
      "metadata": {
        "id": "ay7TcZSETzHo"
      },
      "execution_count": null,
      "outputs": []
    },
    {
      "cell_type": "code",
      "source": [],
      "metadata": {
        "id": "GGM40XVwTzEq"
      },
      "execution_count": null,
      "outputs": []
    },
    {
      "cell_type": "code",
      "source": [],
      "metadata": {
        "id": "cQd1JG6cTzCm"
      },
      "execution_count": null,
      "outputs": []
    },
    {
      "cell_type": "code",
      "source": [
        "import numpy as np\n",
        "weights = np.random.rand(3, 1)\n",
        "weights"
      ],
      "metadata": {
        "id": "5Oqj5YeJTy_w",
        "colab": {
          "base_uri": "https://localhost:8080/",
          "height": 0
        },
        "outputId": "3fa2c8ea-37c6-412c-d179-f2e160671e88"
      },
      "execution_count": 4,
      "outputs": [
        {
          "output_type": "execute_result",
          "data": {
            "text/plain": [
              "array([[0.78856163],\n",
              "       [0.09490114],\n",
              "       [0.09623598]])"
            ]
          },
          "metadata": {},
          "execution_count": 4
        }
      ]
    },
    {
      "cell_type": "code",
      "source": [],
      "metadata": {
        "id": "Zwb8pUTeIAdC"
      },
      "execution_count": 3,
      "outputs": []
    },
    {
      "cell_type": "code",
      "source": [],
      "metadata": {
        "id": "vG9-v2khDhg4"
      },
      "execution_count": null,
      "outputs": []
    }
  ]
}